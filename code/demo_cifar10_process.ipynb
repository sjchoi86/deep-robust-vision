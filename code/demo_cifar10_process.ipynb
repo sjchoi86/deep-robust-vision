{
 "cells": [
  {
   "cell_type": "markdown",
   "metadata": {},
   "source": [
    "### Cifar 10 process usages"
   ]
  },
  {
   "cell_type": "code",
   "execution_count": 4,
   "metadata": {},
   "outputs": [
    {
     "name": "stdout",
     "output_type": "stream",
     "text": [
      "Packages loaded.\n"
     ]
    }
   ],
   "source": [
    "import numpy as np\n",
    "from data.cifar import CIFAR10\n",
    "import torchvision.transforms as transforms\n",
    "print (\"Packages loaded.\")"
   ]
  },
  {
   "cell_type": "markdown",
   "metadata": {},
   "source": [
    "### Get CIFAR10"
   ]
  },
  {
   "cell_type": "code",
   "execution_count": 2,
   "metadata": {},
   "outputs": [
    {
     "name": "stdout",
     "output_type": "stream",
     "text": [
      "Downloading https://www.cs.toronto.edu/~kriz/cifar-10-python.tar.gz to ./data/cifar-10-python.tar.gz\n",
      "9 10\n",
      "50000\n",
      "Actual noise 0.20\n",
      "[[0.8 0.2 0.  0.  0.  0.  0.  0.  0.  0. ]\n",
      " [0.  0.8 0.2 0.  0.  0.  0.  0.  0.  0. ]\n",
      " [0.  0.  0.8 0.2 0.  0.  0.  0.  0.  0. ]\n",
      " [0.  0.  0.  0.8 0.2 0.  0.  0.  0.  0. ]\n",
      " [0.  0.  0.  0.  0.8 0.2 0.  0.  0.  0. ]\n",
      " [0.  0.  0.  0.  0.  0.8 0.2 0.  0.  0. ]\n",
      " [0.  0.  0.  0.  0.  0.  0.8 0.2 0.  0. ]\n",
      " [0.  0.  0.  0.  0.  0.  0.  0.8 0.2 0. ]\n",
      " [0.  0.  0.  0.  0.  0.  0.  0.  0.8 0.2]\n",
      " [0.2 0.  0.  0.  0.  0.  0.  0.  0.  0.8]]\n",
      "Files already downloaded and verified\n"
     ]
    }
   ],
   "source": [
    "# noise_type = [pairflip, symmetric]\n",
    "noise_type = 'pairflip' \n",
    "noise_rate = 0.2\n",
    "train_dataset = CIFAR10(root='./data/',\n",
    "                        download=True,  \n",
    "                        train=True, \n",
    "                        transform=transforms.ToTensor(),\n",
    "                        noise_type=noise_type,\n",
    "                        noise_rate=noise_rate\n",
    "                        )\n",
    "test_dataset = CIFAR10(root='./data/',\n",
    "                       download=True,  \n",
    "                       train=False, \n",
    "                       transform=transforms.ToTensor(),\n",
    "                       noise_type=noise_type,\n",
    "                       noise_rate=noise_rate\n",
    "                       )"
   ]
  },
  {
   "cell_type": "markdown",
   "metadata": {},
   "source": [
    "### Get training and test data"
   ]
  },
  {
   "cell_type": "code",
   "execution_count": 23,
   "metadata": {},
   "outputs": [
    {
     "name": "stdout",
     "output_type": "stream",
     "text": [
      "(50000, 32, 32, 3) (50000, 10) (50000, 10)\n",
      "(10000, 32, 32, 3) (10000, 10)\n"
     ]
    }
   ],
   "source": [
    "def one_hot(a, num_classes): # to 1-hot vectors\n",
    "    return np.squeeze(np.eye(num_classes)[a.reshape(-1)])\n",
    "x_train = train_dataset.train_data/255. # rgb values between 0~1\n",
    "y_train = one_hot(train_dataset.train_labels,10)\n",
    "y_noisy_train = one_hot(np.asarray(train_dataset.train_noisy_labels),10)\n",
    "x_test = test_dataset.test_data/255. # rgb values between 0~1\n",
    "y_test = one_hot(np.asarray(test_dataset.test_labels),10)\n",
    "\n",
    "# Print the shape of data\n",
    "print (x_train.shape,y_train.shape,y_noisy_train.shape,)\n",
    "print (x_test.shape,y_test.shape,)"
   ]
  },
  {
   "cell_type": "code",
   "execution_count": null,
   "metadata": {},
   "outputs": [],
   "source": []
  }
 ],
 "metadata": {
  "kernelspec": {
   "display_name": "Python 3",
   "language": "python",
   "name": "python3"
  },
  "language_info": {
   "codemirror_mode": {
    "name": "ipython",
    "version": 3
   },
   "file_extension": ".py",
   "mimetype": "text/x-python",
   "name": "python",
   "nbconvert_exporter": "python",
   "pygments_lexer": "ipython3",
   "version": "3.5.2"
  }
 },
 "nbformat": 4,
 "nbformat_minor": 2
}
